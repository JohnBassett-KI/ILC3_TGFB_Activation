{
 "cells": [
  {
   "cell_type": "code",
   "execution_count": 1,
   "id": "f26b47a5-5d6e-4741-8b81-ce38db22e854",
   "metadata": {},
   "outputs": [
    {
     "data": {
      "text/plain": [
       "'\\nbefore starting session make sure:\\nconda activate gcAtlas\\n'"
      ]
     },
     "execution_count": 1,
     "metadata": {},
     "output_type": "execute_result"
    }
   ],
   "source": [
    "\"\"\"\n",
    "before starting session make sure:\n",
    "conda activate gcAtlas\n",
    "\"\"\""
   ]
  },
  {
   "cell_type": "code",
   "execution_count": 1,
   "id": "de664e4b-b997-463b-8ffc-265bfc057523",
   "metadata": {},
   "outputs": [],
   "source": [
    "#numpy and pandas are included by defualt in uppmax python modules\n",
    "import numpy as np\n",
    "import pandas as pd"
   ]
  },
  {
   "cell_type": "code",
   "execution_count": 2,
   "id": "72d54fc6-3cde-435b-b71e-8ddb5ce30bc1",
   "metadata": {},
   "outputs": [],
   "source": [
    "import anndata as ad"
   ]
  },
  {
   "cell_type": "code",
   "execution_count": 3,
   "id": "217c1b59-980c-4225-a15e-80a1e065b11a",
   "metadata": {},
   "outputs": [
    {
     "name": "stderr",
     "output_type": "stream",
     "text": [
      "/usr/local/lib/python3.9/site-packages/tqdm/auto.py:22: TqdmWarning: IProgress not found. Please update jupyter and ipywidgets. See https://ipywidgets.readthedocs.io/en/stable/user_install.html\n",
      "  from .autonotebook import tqdm as notebook_tqdm\n"
     ]
    },
    {
     "name": "stdout",
     "output_type": "stream",
     "text": [
      "scanpy==1.9.1 anndata==0.8.0 umap==0.5.3 numpy==1.22.4 scipy==1.8.1 pandas==1.4.3 scikit-learn==1.1.1 statsmodels==0.13.2 python-igraph==0.9.11 pynndescent==0.5.7\n"
     ]
    },
    {
     "data": {
      "text/plain": [
       "'\\ngcc path error can be resoved by setting the library path for gcc\\nbefore starting the jupyter session.\\n\\nLD_LIBRARY_PATH=$CONDA_ENVS_PATH/gcAtlas/lib\\n\\nThis error has been fixed on rackham\\n'"
      ]
     },
     "execution_count": 3,
     "metadata": {},
     "output_type": "execute_result"
    }
   ],
   "source": [
    "import scanpy as sc\n",
    "sc.settings.verbosity = 3\n",
    "sc.logging.print_header()\n",
    "sc.settings.set_figure_params(dpi=80, facecolor='white')\n",
    "\n",
    "\"\"\"\n",
    "gcc path error can be resoved by setting the library path for gcc\n",
    "before starting the jupyter session.\n",
    "\n",
    "LD_LIBRARY_PATH=$CONDA_ENVS_PATH/gcAtlas/lib\n",
    "\n",
    "This error has been fixed on rackham\n",
    "\"\"\"\n"
   ]
  },
  {
   "cell_type": "code",
   "execution_count": 4,
   "id": "6193fdc4-bf8b-4cce-aca5-3668a22dbef2",
   "metadata": {},
   "outputs": [],
   "source": [
    "import matplotlib.pyplot as plt\n",
    "plt.rcParams['figure.figsize' ] = [10, 5]"
   ]
  },
  {
   "cell_type": "code",
   "execution_count": 7,
   "id": "2dc62912-d300-4700-9632-732564ebe973",
   "metadata": {},
   "outputs": [],
   "source": [
    "\"\"\"\n",
    "import data from files and set output file\n",
    "\"\"\"\n",
    "gut_data_path = \"../../R/data/Full_obj_raw_counts_nosoupx_v2.h5ad\"\n",
    "df = sc.read_h5ad(gut_data_path)\n"
   ]
  },
  {
   "cell_type": "code",
   "execution_count": 8,
   "id": "596ec731-515e-477d-8807-dd39729e6da6",
   "metadata": {},
   "outputs": [],
   "source": [
    "\"\"\"\n",
    "Notes:\n",
    "sample_name (changed from 'sample name') corresponds to the\n",
    "sample 10x run that was performed to generate the data.\n",
    "\n",
    "The 'Fraction' criteria in meta data corresponds to the MACS enrichment fraction.\n",
    "In adult samples its value can take SC = total fraction without enrichment\n",
    "SC-45P = CD45+ fraction from MACS enrichment\n",
    "SC-45N = CD45- fraction from MACS enrichment\n",
    "\"\"\"\n",
    "#rename obs columns to exclude white spaces\n",
    "df.obs.rename({'Sample name' : 'Donor',\n",
    "               'sample name' : 'sample_name',\n",
    "               'Region code' : 'Region_code'},\n",
    "              axis = 1,inplace=True)\n"
   ]
  },
  {
   "cell_type": "code",
   "execution_count": 9,
   "id": "f4ffcd52-5bac-4950-af0b-f9f859a8c6e8",
   "metadata": {},
   "outputs": [],
   "source": [
    "\"\"\"\n",
    "subset data into the relevant adult patient data\n",
    "adult patients\n",
    "samples taken from the large intestine\n",
    "\"\"\"\n",
    "adult = df[df.obs.Age_group == 'Adult', :]\n",
    "adult_largeInt = adult[adult.obs.Region == 'LargeInt', :]"
   ]
  },
  {
   "cell_type": "code",
   "execution_count": 12,
   "id": "f6888111-5ff9-4427-b071-b90ea275d65c",
   "metadata": {},
   "outputs": [],
   "source": [
    "\"\"\"\n",
    "write data to file\n",
    "\"\"\"\n",
    "adult_largeInt.write(filename='../data/gca_adult_largeInt.h5ad')"
   ]
  },
  {
   "cell_type": "code",
   "execution_count": null,
   "id": "b7e82f07-7ebd-497b-8e74-99e0beee44aa",
   "metadata": {},
   "outputs": [],
   "source": []
  }
 ],
 "metadata": {
  "kernelspec": {
   "display_name": "Python 3 (ipykernel)",
   "language": "python",
   "name": "python3"
  },
  "language_info": {
   "codemirror_mode": {
    "name": "ipython",
    "version": 3
   },
   "file_extension": ".py",
   "mimetype": "text/x-python",
   "name": "python",
   "nbconvert_exporter": "python",
   "pygments_lexer": "ipython3",
   "version": "3.9.13"
  }
 },
 "nbformat": 4,
 "nbformat_minor": 5
}
